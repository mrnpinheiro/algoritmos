{
  "nbformat": 4,
  "nbformat_minor": 0,
  "metadata": {
    "colab": {
      "name": "entendendo_algoritmos.ipynb",
      "provenance": [],
      "authorship_tag": "ABX9TyP+06yOmEdPrScEf1yzdqzi",
      "include_colab_link": true
    },
    "kernelspec": {
      "name": "python3",
      "display_name": "Python 3"
    }
  },
  "cells": [
    {
      "cell_type": "markdown",
      "metadata": {
        "id": "view-in-github",
        "colab_type": "text"
      },
      "source": [
        "<a href=\"https://colab.research.google.com/github/mrnpinheiro/algoritmos/blob/main/entendendo_algoritmos.ipynb\" target=\"_parent\"><img src=\"https://colab.research.google.com/assets/colab-badge.svg\" alt=\"Open In Colab\"/></a>"
      ]
    },
    {
      "cell_type": "markdown",
      "metadata": {
        "id": "nn6XimkmODc7"
      },
      "source": [
        "# **Introdução a Algoritmos**"
      ]
    },
    {
      "cell_type": "markdown",
      "metadata": {
        "id": "0M94gqJRddbL"
      },
      "source": [
        "Exercícios propostos no guia ilustrado \"Entendendo algoritmos\", Aditya Y. Bhargava"
      ]
    },
    {
      "cell_type": "markdown",
      "metadata": {
        "id": "pewm-CSEOMTm"
      },
      "source": [
        "## Pesquisa binária"
      ]
    },
    {
      "cell_type": "code",
      "metadata": {
        "colab": {
          "base_uri": "https://localhost:8080/"
        },
        "id": "zxiH8pM7Ohwy",
        "outputId": "c113267e-97ad-40e8-bbbc-a9aef91c3b92"
      },
      "source": [
        "def pesquisa_binaria(lista, item):\n",
        "  baixo = 0\n",
        "  alto = len(lista) - 1\n",
        "  while baixo <= alto:\n",
        "    meio = (baixo + alto) // 2\n",
        "    chute = lista[meio]\n",
        "    if chute == item:\n",
        "      return meio\n",
        "    if chute > item:\n",
        "      alto = meio - 1\n",
        "    else:\n",
        "      baixo = meio + 1\n",
        "  return None\n",
        "\n",
        "minha_lista = [1, 3, 5, 7, 10]\n",
        "print(pesquisa_binaria(minha_lista, 3))\n",
        "print(pesquisa_binaria(minha_lista, -1))\n",
        "print(pesquisa_binaria(minha_lista, 10))"
      ],
      "execution_count": 15,
      "outputs": [
        {
          "output_type": "stream",
          "text": [
            "1\n",
            "None\n",
            "4\n"
          ],
          "name": "stdout"
        }
      ]
    },
    {
      "cell_type": "markdown",
      "metadata": {
        "id": "A37ifSekOXBL"
      },
      "source": [
        "## Ordenação por seleção"
      ]
    },
    {
      "cell_type": "code",
      "metadata": {
        "colab": {
          "base_uri": "https://localhost:8080/"
        },
        "id": "FXTeqOcRQ7xd",
        "outputId": "e5e8e161-0daf-4479-cfbf-5bf141d6306b"
      },
      "source": [
        "def buscaMenor(arr):\n",
        "  menor = arr[0]\n",
        "  menor_indice = 0\n",
        "  for i in range(1, len(arr)):\n",
        "    if arr[i] < menor:\n",
        "      menor = arr[i]\n",
        "      menor_indice = i\n",
        "  return menor_indice\n",
        "\n",
        "def ordenacaoporSelecao(arr):\n",
        "  novoArr = []\n",
        "  for i in range(len(arr)):\n",
        "    menor = buscaMenor(arr)\n",
        "    novoArr.append(arr.pop(menor))\n",
        "  return novoArr\n",
        "\n",
        "minha_lista = [10, 2, 1, 5, 7]\n",
        "print(ordenacaoporSelecao(minha_lista))"
      ],
      "execution_count": 17,
      "outputs": [
        {
          "output_type": "stream",
          "text": [
            "[1, 2, 5, 7, 10]\n"
          ],
          "name": "stdout"
        }
      ]
    },
    {
      "cell_type": "markdown",
      "metadata": {
        "id": "cZpcmbxHOe08"
      },
      "source": [
        "## Pilha de chamada com recursão"
      ]
    },
    {
      "cell_type": "code",
      "metadata": {
        "colab": {
          "base_uri": "https://localhost:8080/"
        },
        "id": "mFFfgjnQNz9F",
        "outputId": "67cec208-7ca1-4c13-d021-0ab4fa435a35"
      },
      "source": [
        "def fat(x):\n",
        "    if x == 1:\n",
        "        return 1\n",
        "    else:\n",
        "        return x * fat(x-1)\n",
        "\n",
        "print(fat(5))"
      ],
      "execution_count": 18,
      "outputs": [
        {
          "output_type": "stream",
          "text": [
            "120\n"
          ],
          "name": "stdout"
        }
      ]
    },
    {
      "cell_type": "markdown",
      "metadata": {
        "id": "e-AMw5_oTOCc"
      },
      "source": [
        "## Técnica DC - Dividir para conquistar"
      ]
    },
    {
      "cell_type": "code",
      "metadata": {
        "colab": {
          "base_uri": "https://localhost:8080/"
        },
        "id": "6lgE8eAUTSYM",
        "outputId": "b2a166b9-80c2-4f6c-aa44-944d090baf10"
      },
      "source": [
        "# Somando todos os números de um array e retornando o valor total (feito em loop)\n",
        "\n",
        "def soma(lista):\n",
        "    total = 0\n",
        "    for x in lista:\n",
        "        total += x\n",
        "    return total\n",
        "print(soma([1, 2, 3, 4]))"
      ],
      "execution_count": 19,
      "outputs": [
        {
          "output_type": "stream",
          "text": [
            "10\n"
          ],
          "name": "stdout"
        }
      ]
    },
    {
      "cell_type": "code",
      "metadata": {
        "colab": {
          "base_uri": "https://localhost:8080/"
        },
        "id": "PPbrhFkeTUy9",
        "outputId": "299ced95-f6f9-41ed-eaf6-ecdedda3269e"
      },
      "source": [
        "# Somando todos os números de um array e retornando o valor total (feito recursivamente)\n",
        "\n",
        "def soma(lista):\n",
        "    if lista == []:\n",
        "        return 0\n",
        "    else:\n",
        "        return lista[0] + soma(lista[1:])\n",
        "print(soma([1, 2, 3, 4]))"
      ],
      "execution_count": 22,
      "outputs": [
        {
          "output_type": "stream",
          "text": [
            "10\n"
          ],
          "name": "stdout"
        }
      ]
    },
    {
      "cell_type": "code",
      "metadata": {
        "colab": {
          "base_uri": "https://localhost:8080/"
        },
        "id": "tlNuIENgTWYQ",
        "outputId": "e05c8a93-3c7b-4000-a557-8279e3edc17e"
      },
      "source": [
        "# Função recursiva que conta o número de itens em uma lista\n",
        "\n",
        "def conta(lista):\n",
        "    if lista == []:\n",
        "        return 0\n",
        "    else:\n",
        "        return 1 + conta(lista[1:])\n",
        "print(conta([2, 3, 4, 5]))"
      ],
      "execution_count": 23,
      "outputs": [
        {
          "output_type": "stream",
          "text": [
            "4\n"
          ],
          "name": "stdout"
        }
      ]
    },
    {
      "cell_type": "code",
      "metadata": {
        "colab": {
          "base_uri": "https://localhost:8080/"
        },
        "id": "tiyUTX9rTorW",
        "outputId": "01bec6ae-a860-4fc5-a6b2-ef1f47b28e5c"
      },
      "source": [
        "# Função recursiva que encontra o valor mais alto em uma lista\n",
        "\n",
        "def encontra(lista):\n",
        "    if len(lista) == 2:\n",
        "        return lista[0] if lista[0] > lista[1] else lista[1]\n",
        "    maior = encontra(lista[1:])\n",
        "    return lista[0] if lista[0] > maior else maior\n",
        "print(encontra([2, 3, 4, 5, 11, 4]))"
      ],
      "execution_count": 25,
      "outputs": [
        {
          "output_type": "stream",
          "text": [
            "11\n"
          ],
          "name": "stdout"
        }
      ]
    },
    {
      "cell_type": "markdown",
      "metadata": {
        "id": "WWeIWjj-V4CE"
      },
      "source": [
        "## Quicksort"
      ]
    },
    {
      "cell_type": "code",
      "metadata": {
        "colab": {
          "base_uri": "https://localhost:8080/"
        },
        "id": "teR6tlC0V7aY",
        "outputId": "6e53e6ca-1a7a-4c31-b547-9aa9acee3922"
      },
      "source": [
        "def quicksort(array):\n",
        "  if len(array) < 2:\n",
        "    return array\n",
        "  else:\n",
        "    pivo = array[0]\n",
        "    menores = [i for i in array[1:] if i <= pivo]\n",
        "    maiores = [i for i in array[1:] if i > pivo]\n",
        "    return quicksort(menores) + [pivo] + quicksort(maiores)\n",
        "\n",
        "print(quicksort([1, 10, 5, 4, 7, 2]))"
      ],
      "execution_count": 26,
      "outputs": [
        {
          "output_type": "stream",
          "text": [
            "[1, 2, 4, 5, 7, 10]\n"
          ],
          "name": "stdout"
        }
      ]
    },
    {
      "cell_type": "markdown",
      "metadata": {
        "id": "AXs638aFz6Jz"
      },
      "source": [
        "##Tabela Hash"
      ]
    },
    {
      "cell_type": "code",
      "metadata": {
        "colab": {
          "base_uri": "https://localhost:8080/"
        },
        "id": "INXr0LNU0AiI",
        "outputId": "ea2ef093-4549-4138-d437-5f5c569f643e"
      },
      "source": [
        "// Resolução DNS com implementação por tabela hash\n",
        "\n",
        "tabela = {}\n",
        "tabela[\"google.com\"] = \"74.125.239.133\"\n",
        "tabela[\"facebook.com\"] = \"173.252.120.6\"\n",
        "tabela[\"adit.io\"] = \"173.255.248.55\"\n",
        "print(tabela)\n",
        "print(tabela[\"facebook.com\"])"
      ],
      "execution_count": 30,
      "outputs": [
        {
          "output_type": "stream",
          "text": [
            "{'google.com': '74.125.239.133', 'facebook.com': '173.252.120.6', 'adit.io': '173.255.248.55'}\n",
            "173.252.120.6\n"
          ],
          "name": "stdout"
        }
      ]
    },
    {
      "cell_type": "code",
      "metadata": {
        "colab": {
          "base_uri": "https://localhost:8080/"
        },
        "id": "O-42aFrc0IH6",
        "outputId": "07064a92-2cbf-44ee-fba3-f794da537bae"
      },
      "source": [
        "# Evitando duplicidades\n",
        "\n",
        "votaram = {}\n",
        "\n",
        "def verifica_voto(nome):\n",
        "  if votaram.get(nome):\n",
        "    print(\"Você já votou!\")\n",
        "  else:\n",
        "    votaram[nome] = True\n",
        "    print(\"Pode votar.\")\n",
        "\n",
        "verifica_voto(\"Mari\")\n",
        "verifica_voto(\"Mãe\")\n",
        "verifica_voto(\"Mari\")"
      ],
      "execution_count": 33,
      "outputs": [
        {
          "output_type": "stream",
          "text": [
            "Pode votar.\n",
            "Pode votar.\n",
            "Você já votou!\n"
          ],
          "name": "stdout"
        }
      ]
    },
    {
      "cell_type": "markdown",
      "metadata": {
        "id": "L5blOsHr5tNk"
      },
      "source": [
        "## Pesquisa em Largura"
      ]
    },
    {
      "cell_type": "code",
      "metadata": {
        "colab": {
          "base_uri": "https://localhost:8080/"
        },
        "id": "hJSqUsMS5vcJ",
        "outputId": "254f05a2-039e-4b4f-d032-77f3d2b9ec5b"
      },
      "source": [
        "# Implementando o grafo\n",
        "\n",
        "grafo = {}\n",
        "grafo[\"Mari\"] = [\"Suzana\", \"Ana\", \"Molly\"]\n",
        "grafo[\"Ana\"] = [\"Lukauê\", \"Lucas\"]\n",
        "grafo[\"Suzana\"] = [\"Mira\", \"Toninha\"]\n",
        "grafo[\"Molly\"] = []\n",
        "grafo[\"Lukauê\"] = []\n",
        "grafo[\"Toninha\"] = [\"Lucas\"]\n",
        "grafo[\"Lucas\"] = []\n",
        "grafo[\"Mira\"] = []\n",
        "print(grafo)"
      ],
      "execution_count": 5,
      "outputs": [
        {
          "output_type": "stream",
          "text": [
            "{'Mari': ['Suzana', 'Ana', 'Molly'], 'Ana': ['Lukauê', 'Lucas'], 'Suzana': ['Mira', 'Toninha'], 'Molly': [], 'Lukauê': [], 'Toninha': ['Lucas'], 'Lucas': [], 'Mira': []}\n"
          ],
          "name": "stdout"
        }
      ]
    },
    {
      "cell_type": "code",
      "metadata": {
        "colab": {
          "base_uri": "https://localhost:8080/"
        },
        "id": "hPgtfpGJjZG3",
        "outputId": "8eece94f-8c2b-43bf-c031-764cd649ec1d"
      },
      "source": [
        "# Implementando o Algoritmo de Pesquisa em Largura\n",
        "\n",
        "from collections import deque\n",
        "\n",
        "def pesquisa(nome): \n",
        "  fila_de_pesquisa = deque()\n",
        "  fila_de_pesquisa += grafo[\"Mari\"]\n",
        "  verificadas = []\n",
        "  while fila_de_pesquisa:\n",
        "    pessoas = fila_de_pesquisa.popleft()\n",
        "    if not pessoas in verificadas:\n",
        "      if pessoa_escolhida(pessoas):\n",
        "        print(\"A pessoa que se chama %s foi a escolhida. =)\" %pessoas)\n",
        "        return True\n",
        "      else:\n",
        "        fila_de_pesquisa += grafo[pessoas]\n",
        "        verificadas.append(pessoas)\n",
        "  return False\n",
        "\n",
        "def pessoa_escolhida(nome):\n",
        "    return nome[-1] == \"a\"\n",
        "\n",
        "pesquisa(\"Mari\")"
      ],
      "execution_count": 16,
      "outputs": [
        {
          "output_type": "stream",
          "text": [
            "A pessoa que se chama Suzana foi a escolhida. =)\n"
          ],
          "name": "stdout"
        },
        {
          "output_type": "execute_result",
          "data": {
            "text/plain": [
              "True"
            ]
          },
          "metadata": {
            "tags": []
          },
          "execution_count": 16
        }
      ]
    }
  ]
}